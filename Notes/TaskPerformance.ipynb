{
 "cells": [
  {
   "cell_type": "code",
   "execution_count": 3,
   "metadata": {},
   "outputs": [
    {
     "name": "stdout",
     "output_type": "stream",
     "text": [
      "The autoreload extension is already loaded. To reload it, use:\n",
      "  %reload_ext autoreload\n"
     ]
    }
   ],
   "source": [
    "%matplotlib inline\n",
    "%load_ext autoreload\n",
    "%autoreload 2\n",
    "import matplotlib\n",
    "import seaborn as sns\n",
    "import matplotlib.pyplot as plt\n",
    "import pandas as pd\n",
    "import os\n",
    "import numpy as np\n",
    "sns.set(style=\"darkgrid\")\n",
    "import sys\n",
    "sys.path.append('../../src/Vrama')\n",
    "sys.path.append('../../src')\n",
    "\n",
    "from Vrama import DataController as dc\n",
    "from Vrama import Tables\n",
    "from Vrama import Eye\n",
    "\n",
    "import time\n",
    "from scipy import stats"
   ]
  },
  {
   "cell_type": "code",
   "execution_count": 62,
   "metadata": {},
   "outputs": [],
   "source": [
    "subjectList = ['19205']\n",
    "\n",
    "df_math = pd.DataFrame()\n",
    "df_stroop = pd.DataFrame()\n",
    "df_axcpt = pd.DataFrame()\n",
    "for subject in subjectList:\n",
    "\n",
    "    subj_dpath = os.path.join(dc.viveIntDataDir,subject)\n",
    "    session_fpath = os.path.join(dc.viveIntDataDir,subject,subject +'_sessions.csv')\n",
    "    df_sessions = pd.read_csv(session_fpath)\n",
    "\n",
    "    for i,r in df_sessions.iterrows():\n",
    "\n",
    "        df = pd.read_csv(os.path.join(subj_dpath,subject+\"_results_\"+r.Date+\".csv\"))\n",
    "        df = FixRTandDistraction(df)\n",
    "        df = df[df['distraction']=='on']\n",
    "        \n",
    "        if not df.empty:\n",
    "\n",
    "            r1 = pd.DataFrame.from_dict({\"Subject\":[subject],\"Date\":[r.Date],\n",
    "            \"SessionType\":[r.SessionType]})\n",
    "            if r.TaskType == \"stroop\":\n",
    "                r2 = Tables.Build_score_counts_stroop(df)\n",
    "                df_stroop=df_stroop.append(pd.concat([r1, r2], axis=1, sort=False))\n",
    "            elif r.TaskType == \"math\":\n",
    "                r2 = Tables.Build_score_counts_math(df)\n",
    "                df_math=df_math.append(pd.concat([r1, r2], axis=1, sort=False))\n",
    "            elif  r.TaskType == \"axcpt\":\n",
    "                r2 = Tables.Build_score_counts_cpt(df)\n",
    "                df_axcpt=df_axcpt.append(pd.concat([r1, r2], axis=1, sort=False))\n",
    "# Set index\n",
    "df_stroop = df_stroop.reset_index(drop=True)\n",
    "df_math = df_math.reset_index(drop=True)\n",
    "df_axcpt = df_axcpt.reset_index(drop=True)\n",
    "\n",
    "# Save to processed table folder\n",
    "proc_dpath = dc.viveProDataDir\n",
    "df_stroop.to_csv(os.path.join(proc_dpath,\"vive_stroop_count_distraction_on_table.csv\"),index=False)\n",
    "df_math.to_csv(os.path.join(proc_dpath,\"vive_math_count_distraction_on_table.csv\"),index=False)\n",
    "df_axcpt.to_csv(os.path.join(proc_dpath,\"vive_cpt_count_distraction_on_table.csv\"),index=False)"
   ]
  },
  {
   "cell_type": "code",
   "execution_count": 63,
   "metadata": {},
   "outputs": [],
   "source": [
    "subjectList = ['19205']\n",
    "cnt = 0\n",
    "df_math = pd.DataFrame()\n",
    "df_stroop = pd.DataFrame()\n",
    "df_axcpt = pd.DataFrame()\n",
    "for subject in subjectList:\n",
    "\n",
    "    subj_dpath = os.path.join(dc.viveIntDataDir,subject)\n",
    "    session_fpath = os.path.join(dc.viveIntDataDir,subject,subject +'_sessions.csv')\n",
    "    df_sessions = pd.read_csv(session_fpath)\n",
    "\n",
    "    for i,r in df_sessions.iterrows():\n",
    "\n",
    "        df = pd.read_csv(os.path.join(subj_dpath,subject+\"_results_\"+r.Date+\".csv\"))\n",
    "        df = FixRTandDistraction(df)\n",
    "        df = df[df['distraction']=='off']\n",
    "        \n",
    "        if not df.empty:\n",
    "\n",
    "            r1 = pd.DataFrame.from_dict({\"Subject\":[subject],\"Date\":[r.Date],\n",
    "            \"SessionType\":[r.SessionType]})\n",
    "            if r.TaskType == \"stroop\":\n",
    "                r2 = Tables.Build_score_counts_stroop(df)\n",
    "                df_stroop=df_stroop.append(pd.concat([r1, r2], axis=1, sort=False))\n",
    "            elif r.TaskType == \"math\":\n",
    "                r2 = Tables.Build_score_counts_math(df)\n",
    "                df_math=df_math.append(pd.concat([r1, r2], axis=1, sort=False))\n",
    "            elif  r.TaskType == \"axcpt\":\n",
    "                if cnt == 0:\n",
    "                    df_cpt0 = pd.read_csv(os.path.join(subj_dpath,subject+\"_results_\"+r.Date+\".csv\"))\n",
    "                if cnt == 1:\n",
    "                    df_cpt1 =pd.read_csv(os.path.join(subj_dpath,subject+\"_results_\"+r.Date+\".csv\"))\n",
    "                cnt = cnt + 1\n",
    "                r2 = Tables.Build_score_counts_cpt(df)\n",
    "                df_axcpt=df_axcpt.append(pd.concat([r1, r2], axis=1, sort=False))\n",
    "# Set index\n",
    "df_stroop = df_stroop.reset_index(drop=True)\n",
    "df_math = df_math.reset_index(drop=True)\n",
    "df_axcpt = df_axcpt.reset_index(drop=True)\n",
    "\n",
    "# Save to processed table folder\n",
    "proc_dpath = dc.viveProDataDir\n",
    "df_stroop.to_csv(os.path.join(proc_dpath,\"vive_stroop_count_distraction_off_table.csv\"),index=False)\n",
    "df_math.to_csv(os.path.join(proc_dpath,\"vive_math_count_distraction_off_table.csv\"),index=False)\n",
    "df_axcpt.to_csv(os.path.join(proc_dpath,\"vive_cpt_count_distraction_off_table.csv\"),index=False)"
   ]
  },
  {
   "cell_type": "code",
   "execution_count": 61,
   "metadata": {},
   "outputs": [],
   "source": [
    "def FixRTandDistraction(df):\n",
    "    for i,r in df.iterrows():\n",
    "        if r.reaction_time in ['off','on']:\n",
    "            r.distraction = r.reaction_time\n",
    "            r.reaction_time = np.NaN\n",
    "            df.iloc[i] = r\n",
    "            \n",
    "    return df           "
   ]
  },
  {
   "cell_type": "code",
   "execution_count": null,
   "metadata": {},
   "outputs": [],
   "source": []
  }
 ],
 "metadata": {
  "kernelspec": {
   "display_name": "Python 3",
   "language": "python",
   "name": "python3"
  },
  "language_info": {
   "codemirror_mode": {
    "name": "ipython",
    "version": 3
   },
   "file_extension": ".py",
   "mimetype": "text/x-python",
   "name": "python",
   "nbconvert_exporter": "python",
   "pygments_lexer": "ipython3",
   "version": "3.7.1"
  }
 },
 "nbformat": 4,
 "nbformat_minor": 2
}
