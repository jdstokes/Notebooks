{
 "cells": [
  {
   "cell_type": "code",
   "execution_count": 1,
   "metadata": {},
   "outputs": [],
   "source": [
    "%load_ext autoreload\n",
    "%autoreload 2\n",
    "import os\n",
    "import sys\n",
    "import sys\n",
    "sys.path.append('../src/Vrama')\n",
    "import pandas as pd\n",
    "from Vrama import DataController as dc\n",
    "from Vrama import Eye"
   ]
  },
  {
   "cell_type": "code",
   "execution_count": 3,
   "metadata": {},
   "outputs": [],
   "source": [
    "subject_list = dc.GetViveIntSubjectList()\n",
    "dir_path = dc.viveIntDataDir"
   ]
  },
  {
   "cell_type": "code",
   "execution_count": 4,
   "metadata": {},
   "outputs": [
    {
     "name": "stderr",
     "output_type": "stream",
     "text": [
      "C:\\Users\\Greco\\Anaconda3\\envs\\vram\\lib\\site-packages\\IPython\\core\\interactiveshell.py:3214: DtypeWarning: Columns (9,10) have mixed types. Specify dtype option on import or set low_memory=False.\n",
      "  if (yield from self.run_code(code, result)):\n",
      "C:\\Users\\Greco\\Anaconda3\\envs\\vram\\lib\\site-packages\\IPython\\core\\interactiveshell.py:3214: DtypeWarning: Columns (0,2,8,11,12,17) have mixed types. Specify dtype option on import or set low_memory=False.\n",
      "  if (yield from self.run_code(code, result)):\n"
     ]
    }
   ],
   "source": [
    "for subject in subject_list:\n",
    "    Eye.SaveForUnity(os.path.join(dir_path,subject))"
   ]
  },
  {
   "cell_type": "code",
   "execution_count": 25,
   "metadata": {},
   "outputs": [],
   "source": [
    "subject_list = dc.GetViveIntSubjectList()\n",
    "dir_path = dc.viveIntDataDir\n",
    "\n",
    "# save out list of unity eye files\n",
    "dir_path_eye = os.path.join(dc.viveIntDataDir,'unity_eye')\n",
    "if not os.path.exists(dir_path_eye):\n",
    "    os.mkdir(dir_path_eye)\n",
    "\n",
    "# find eye data files for unity\n",
    "\n",
    " # build eye tracking file list\n",
    "fname_list = []\n",
    "\n",
    "for subject in subject_list:\n",
    "    for root, dirs, files in os.walk(os.path.join(dir_path,subject)):  \n",
    "        for filename in files:\n",
    "            if 'eye_tracking_data' in filename and 'unity' in filename and 'object' not in filename:\n",
    "                fname_list.append(os.path.abspath(os.path.join(dir_path,filename)))\n",
    "            \n"
   ]
  },
  {
   "cell_type": "code",
   "execution_count": 24,
   "metadata": {},
   "outputs": [],
   "source": [
    "df = pd.DataFrame(fname_list)\n",
    "save_fpath = os.path.join(dir_path_eye,'file_list_eye_data_unity.csv')\n",
    "df.to_csv(save_fpath,header=False,index=False)"
   ]
  },
  {
   "cell_type": "code",
   "execution_count": 26,
   "metadata": {},
   "outputs": [
    {
     "data": {
      "text/plain": [
       "['19101', '19201', '19202', '19203', '19204', '19205']"
      ]
     },
     "execution_count": 26,
     "metadata": {},
     "output_type": "execute_result"
    }
   ],
   "source": [
    "dc.GetViveIntSubjectList()\n"
   ]
  },
  {
   "cell_type": "code",
   "execution_count": null,
   "metadata": {},
   "outputs": [],
   "source": []
  }
 ],
 "metadata": {
  "kernelspec": {
   "display_name": "Python 3",
   "language": "python",
   "name": "python3"
  },
  "language_info": {
   "codemirror_mode": {
    "name": "ipython",
    "version": 3
   },
   "file_extension": ".py",
   "mimetype": "text/x-python",
   "name": "python",
   "nbconvert_exporter": "python",
   "pygments_lexer": "ipython3",
   "version": "3.7.3"
  }
 },
 "nbformat": 4,
 "nbformat_minor": 2
}
